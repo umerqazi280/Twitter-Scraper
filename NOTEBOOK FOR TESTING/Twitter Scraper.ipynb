{
 "cells": [
  {
   "cell_type": "code",
   "execution_count": 3,
   "id": "2652c94f",
   "metadata": {
    "collapsed": true
   },
   "outputs": [
    {
     "name": "stdout",
     "output_type": "stream",
     "text": [
      "Collecting git+https://github.com/JustAnotherArchivist/snscrape.git\n",
      "  Cloning https://github.com/JustAnotherArchivist/snscrape.git to c:\\users\\umerq\\appdata\\local\\temp\\pip-req-build-82_abue4\n",
      "Requirement already satisfied: requests[socks] in c:\\programdata\\anaconda3\\lib\\site-packages (from snscrape==0.3.5.dev139+g35fb61a) (2.25.1)\n",
      "Requirement already satisfied: lxml in c:\\programdata\\anaconda3\\lib\\site-packages (from snscrape==0.3.5.dev139+g35fb61a) (4.6.3)\n",
      "Requirement already satisfied: beautifulsoup4 in c:\\programdata\\anaconda3\\lib\\site-packages (from snscrape==0.3.5.dev139+g35fb61a) (4.9.3)\n",
      "Requirement already satisfied: pytz in c:\\programdata\\anaconda3\\lib\\site-packages (from snscrape==0.3.5.dev139+g35fb61a) (2021.1)\n",
      "Requirement already satisfied: soupsieve>1.2 in c:\\programdata\\anaconda3\\lib\\site-packages (from beautifulsoup4->snscrape==0.3.5.dev139+g35fb61a) (2.2.1)\n",
      "Requirement already satisfied: chardet<5,>=3.0.2 in c:\\programdata\\anaconda3\\lib\\site-packages (from requests[socks]->snscrape==0.3.5.dev139+g35fb61a) (4.0.0)\n",
      "Requirement already satisfied: urllib3<1.27,>=1.21.1 in c:\\programdata\\anaconda3\\lib\\site-packages (from requests[socks]->snscrape==0.3.5.dev139+g35fb61a) (1.26.4)\n",
      "Requirement already satisfied: idna<3,>=2.5 in c:\\programdata\\anaconda3\\lib\\site-packages (from requests[socks]->snscrape==0.3.5.dev139+g35fb61a) (2.10)\n",
      "Requirement already satisfied: certifi>=2017.4.17 in c:\\programdata\\anaconda3\\lib\\site-packages (from requests[socks]->snscrape==0.3.5.dev139+g35fb61a) (2020.12.5)\n",
      "Requirement already satisfied: PySocks!=1.5.7,>=1.5.6 in c:\\programdata\\anaconda3\\lib\\site-packages (from requests[socks]->snscrape==0.3.5.dev139+g35fb61a) (1.7.1)\n",
      "Building wheels for collected packages: snscrape\n",
      "  Building wheel for snscrape (setup.py): started\n",
      "  Building wheel for snscrape (setup.py): finished with status 'done'\n",
      "  Created wheel for snscrape: filename=snscrape-0.3.5.dev139+g35fb61a-py3-none-any.whl size=52218 sha256=935caa9edde1239d235af07fa3b81f00ea94375d1c76452364595150ae2cc8b6\n",
      "  Stored in directory: C:\\Users\\umerq\\AppData\\Local\\Temp\\pip-ephem-wheel-cache-tvmjjb17\\wheels\\92\\42\\87\\33fa9b18f7a75d02643a9ca3743339aec9be28c6796267c7d8\n",
      "Successfully built snscrape\n",
      "Installing collected packages: snscrape\n",
      "Successfully installed snscrape-0.3.5.dev139+g35fb61a\n"
     ]
    },
    {
     "name": "stderr",
     "output_type": "stream",
     "text": [
      "  Running command git clone -q https://github.com/JustAnotherArchivist/snscrape.git 'C:\\Users\\umerq\\AppData\\Local\\Temp\\pip-req-build-82_abue4'\n"
     ]
    }
   ],
   "source": [
    "!pip install git+https://github.com/JustAnotherArchivist/snscrape.git"
   ]
  },
  {
   "cell_type": "code",
   "execution_count": 9,
   "id": "d398eba3",
   "metadata": {},
   "outputs": [],
   "source": [
    "import snscrape.modules.twitter as sntwitter\n",
    "import pandas as pd\n",
    "from bs4 import BeautifulSoup"
   ]
  },
  {
   "cell_type": "code",
   "execution_count": 10,
   "id": "94a4efbf",
   "metadata": {},
   "outputs": [],
   "source": [
    "def scrape_tweets(keyword,start,until,no_of_tweets):\n",
    "    # Creating list to append tweet data to\n",
    "    tweets_list = []\n",
    "\n",
    "    hashtag = f\"{keyword} since:{start} until:{until}\"\n",
    "    \n",
    "    # Using TwitterSearchScraper to scrape data and append tweets to list\n",
    "    for i,tweet in enumerate(sntwitter.TwitterSearchScraper(hashtag).get_items()):\n",
    "        if i > (no_of_tweets-1):\n",
    "            break\n",
    "            \n",
    "        data = tweet.source\n",
    "        soup = BeautifulSoup(data)\n",
    "        tweets_list.append({\n",
    "                \"tweet_id\":      tweet.id, \n",
    "                \"tweet_url\":     tweet.url,\n",
    "                \"tweet_content\": tweet.content.replace(\"\\n\",''), \n",
    "                \"tweeted_on\":    tweet.date.strftime('%A, %d %b %Y %I:%M %S %p'),\n",
    "                \"username\":    tweet.user.username, \n",
    "                \"verified\":         tweet.user.verified,\n",
    "                \"follower_count\":  tweet.user.followersCount,\n",
    "                \"following_count\": tweet.user.friendsCount,\n",
    "                \"status_count\":     tweet.user.statusesCount,\n",
    "                \"website\":      tweet.user.linkUrl,\n",
    "                \"reply_count\":     tweet.replyCount,\n",
    "                \"retweet_count\":   tweet.retweetCount,\n",
    "                \"tweet_likes\":      tweet.likeCount,\n",
    "                \"tweet_quote_count\":tweet.quoteCount,\n",
    "                \"tweet_lang\":       tweet.lang,\n",
    "                \"tweet_source\":     soup.find('a').contents[0],\n",
    "            })\n",
    "    return tweets_list"
   ]
  },
  {
   "cell_type": "code",
   "execution_count": 23,
   "id": "e48859a9",
   "metadata": {},
   "outputs": [],
   "source": [
    "keywords = ['python','c++','nft']\n",
    "group_tweets = []\n",
    "for keyword in keywords:\n",
    "    data = scrape_tweets(keyword=keyword,start='',until='',no_of_tweets=5)\n",
    "    group_tweets.append(data)"
   ]
  },
  {
   "cell_type": "code",
   "execution_count": 25,
   "id": "1d326237",
   "metadata": {},
   "outputs": [],
   "source": [
    "List_flat = []\n",
    "\n",
    "for i in range(len(group_tweets)):\n",
    "    for j in range (len(group_tweets[i])): \n",
    "        List_flat.append(group_tweets[i][j]) "
   ]
  },
  {
   "cell_type": "code",
   "execution_count": 32,
   "id": "ba7dad6c",
   "metadata": {},
   "outputs": [],
   "source": [
    "data = [\n",
    "    [\n",
    "    {\n",
    "        'name':'Usman',\n",
    "        'age':22\n",
    "    },\n",
    "    {\n",
    "        'name':'Omar',\n",
    "        'age':22\n",
    "    }\n",
    "]\n",
    "]"
   ]
  },
  {
   "cell_type": "code",
   "execution_count": 35,
   "id": "6fd51cfd",
   "metadata": {},
   "outputs": [
    {
     "name": "stdout",
     "output_type": "stream",
     "text": [
      "Usman\n",
      "Omar\n"
     ]
    }
   ],
   "source": [
    "for row in data:\n",
    "    for nextt in row:\n",
    "        print(nextt['name'])"
   ]
  },
  {
   "cell_type": "code",
   "execution_count": 45,
   "id": "df9296a1",
   "metadata": {},
   "outputs": [],
   "source": [
    "ll = [nextt for nextt in row for row in data]"
   ]
  },
  {
   "cell_type": "code",
   "execution_count": 46,
   "id": "82fba880",
   "metadata": {},
   "outputs": [
    {
     "data": {
      "text/plain": [
       "[{'name': 'Usman', 'age': 22}, {'name': 'Omar', 'age': 22}]"
      ]
     },
     "execution_count": 46,
     "metadata": {},
     "output_type": "execute_result"
    }
   ],
   "source": [
    "ll"
   ]
  },
  {
   "cell_type": "code",
   "execution_count": 47,
   "id": "c19489fd",
   "metadata": {},
   "outputs": [],
   "source": [
    "l111 = [nextt for row in data for nextt in row]"
   ]
  },
  {
   "cell_type": "code",
   "execution_count": 48,
   "id": "11b4cecd",
   "metadata": {},
   "outputs": [
    {
     "data": {
      "text/plain": [
       "[{'name': 'Usman', 'age': 22}, {'name': 'Omar', 'age': 22}]"
      ]
     },
     "execution_count": 48,
     "metadata": {},
     "output_type": "execute_result"
    }
   ],
   "source": [
    "l111"
   ]
  },
  {
   "cell_type": "code",
   "execution_count": null,
   "id": "e4a5a113",
   "metadata": {},
   "outputs": [],
   "source": []
  }
 ],
 "metadata": {
  "kernelspec": {
   "display_name": "Python 3",
   "language": "python",
   "name": "python3"
  },
  "language_info": {
   "codemirror_mode": {
    "name": "ipython",
    "version": 3
   },
   "file_extension": ".py",
   "mimetype": "text/x-python",
   "name": "python",
   "nbconvert_exporter": "python",
   "pygments_lexer": "ipython3",
   "version": "3.8.8"
  }
 },
 "nbformat": 4,
 "nbformat_minor": 5
}
